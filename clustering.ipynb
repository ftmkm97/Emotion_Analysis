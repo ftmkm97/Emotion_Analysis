{
 "cells": [
  {
   "cell_type": "code",
   "execution_count": 1,
   "id": "1960e896",
   "metadata": {},
   "outputs": [],
   "source": [
    "import pandas as pd\n",
    "import numpy as np\n",
    "import re\n",
    "import matplotlib.pyplot as plt\n",
    "\n",
    "from scipy.sparse import csr_matrix\n",
    "from sklearn.feature_extraction.text import TfidfVectorizer\n",
    "from sklearn.decomposition import TruncatedSVD\n",
    "from sklearn.cluster import KMeans\n",
    "from sklearn.pipeline import Pipeline\n",
    "\n",
    "from sklearn.cluster import KMeans\n",
    "\n",
    "from collections import Counter\n",
    "import re\n",
    "\n",
    "from sklearn.cluster import DBSCAN\n",
    "\n",
    "pd.options.mode.chained_assignment = None "
   ]
  },
  {
   "cell_type": "code",
   "execution_count": 2,
   "id": "213b6922",
   "metadata": {},
   "outputs": [
    {
     "data": {
      "text/html": [
       "<div>\n",
       "<style scoped>\n",
       "    .dataframe tbody tr th:only-of-type {\n",
       "        vertical-align: middle;\n",
       "    }\n",
       "\n",
       "    .dataframe tbody tr th {\n",
       "        vertical-align: top;\n",
       "    }\n",
       "\n",
       "    .dataframe thead th {\n",
       "        text-align: right;\n",
       "    }\n",
       "</style>\n",
       "<table border=\"1\" class=\"dataframe\">\n",
       "  <thead>\n",
       "    <tr style=\"text-align: right;\">\n",
       "      <th></th>\n",
       "      <th>Tags</th>\n",
       "      <th>Author Username</th>\n",
       "      <th>Times Viewed</th>\n",
       "      <th>Rating</th>\n",
       "      <th>Date</th>\n",
       "      <th>Time</th>\n",
       "      <th>Category</th>\n",
       "    </tr>\n",
       "  </thead>\n",
       "  <tbody>\n",
       "    <tr>\n",
       "      <th>0</th>\n",
       "      <td>celebr parti board young famili sumer outdor h...</td>\n",
       "      <td>kato84</td>\n",
       "      <td>18570</td>\n",
       "      <td>46.8</td>\n",
       "      <td>2017-07-02</td>\n",
       "      <td>14:42</td>\n",
       "      <td>7</td>\n",
       "    </tr>\n",
       "    <tr>\n",
       "      <th>1</th>\n",
       "      <td>cute portrait beauti lok young beauti love ang...</td>\n",
       "      <td>photalina</td>\n",
       "      <td>124168</td>\n",
       "      <td>49.8</td>\n",
       "      <td>2014-05-14</td>\n",
       "      <td>18:36</td>\n",
       "      <td>7</td>\n",
       "    </tr>\n",
       "    <tr>\n",
       "      <th>2</th>\n",
       "      <td>swet flower cute ador life portrait beauti you...</td>\n",
       "      <td>sutiponmm</td>\n",
       "      <td>84304</td>\n",
       "      <td>48.9</td>\n",
       "      <td>2015-08-13</td>\n",
       "      <td>10:27</td>\n",
       "      <td>0</td>\n",
       "    </tr>\n",
       "    <tr>\n",
       "      <th>3</th>\n",
       "      <td>celebr drink parti board young famili sumer ou...</td>\n",
       "      <td>kato84</td>\n",
       "      <td>16932</td>\n",
       "      <td>46.1</td>\n",
       "      <td>2017-07-02</td>\n",
       "      <td>14:44</td>\n",
       "      <td>7</td>\n",
       "    </tr>\n",
       "    <tr>\n",
       "      <th>4</th>\n",
       "      <td>close - up portrait love two monochrom beard s...</td>\n",
       "      <td>Rainman</td>\n",
       "      <td>105510</td>\n",
       "      <td>49.9</td>\n",
       "      <td>2014-11-01</td>\n",
       "      <td>22:03</td>\n",
       "      <td>7</td>\n",
       "    </tr>\n",
       "    <tr>\n",
       "      <th>...</th>\n",
       "      <td>...</td>\n",
       "      <td>...</td>\n",
       "      <td>...</td>\n",
       "      <td>...</td>\n",
       "      <td>...</td>\n",
       "      <td>...</td>\n",
       "      <td>...</td>\n",
       "    </tr>\n",
       "    <tr>\n",
       "      <th>16298</th>\n",
       "      <td>top portrait beauti beauti canon light emot da...</td>\n",
       "      <td>FabioZenoardo</td>\n",
       "      <td>89</td>\n",
       "      <td>21.3</td>\n",
       "      <td>2015-04-02</td>\n",
       "      <td>14:48</td>\n",
       "      <td>7</td>\n",
       "    </tr>\n",
       "    <tr>\n",
       "      <th>16299</th>\n",
       "      <td>portrait beauti beauti bodi gorgeous model peo...</td>\n",
       "      <td>stateofart</td>\n",
       "      <td>522</td>\n",
       "      <td>36.0</td>\n",
       "      <td>2015-03-10</td>\n",
       "      <td>14:01</td>\n",
       "      <td>7</td>\n",
       "    </tr>\n",
       "    <tr>\n",
       "      <th>16300</th>\n",
       "      <td>autumn portrait beauti beauti light emot color...</td>\n",
       "      <td>getPictures</td>\n",
       "      <td>155</td>\n",
       "      <td>22.0</td>\n",
       "      <td>2015-03-16</td>\n",
       "      <td>18:21</td>\n",
       "      <td>7</td>\n",
       "    </tr>\n",
       "    <tr>\n",
       "      <th>16301</th>\n",
       "      <td>autumn portrait beauti beauti light emot color...</td>\n",
       "      <td>getPictures</td>\n",
       "      <td>185</td>\n",
       "      <td>27.8</td>\n",
       "      <td>2015-03-16</td>\n",
       "      <td>18:21</td>\n",
       "      <td>7</td>\n",
       "    </tr>\n",
       "    <tr>\n",
       "      <th>16302</th>\n",
       "      <td>portrait young sumer winter spring light emot ...</td>\n",
       "      <td>routography</td>\n",
       "      <td>83</td>\n",
       "      <td>31.7</td>\n",
       "      <td>2015-05-25</td>\n",
       "      <td>17:14</td>\n",
       "      <td>7</td>\n",
       "    </tr>\n",
       "  </tbody>\n",
       "</table>\n",
       "<p>16303 rows × 7 columns</p>\n",
       "</div>"
      ],
      "text/plain": [
       "                                                    Tags Author Username  \\\n",
       "0      celebr parti board young famili sumer outdor h...          kato84   \n",
       "1      cute portrait beauti lok young beauti love ang...       photalina   \n",
       "2      swet flower cute ador life portrait beauti you...       sutiponmm   \n",
       "3      celebr drink parti board young famili sumer ou...          kato84   \n",
       "4      close - up portrait love two monochrom beard s...         Rainman   \n",
       "...                                                  ...             ...   \n",
       "16298  top portrait beauti beauti canon light emot da...   FabioZenoardo   \n",
       "16299  portrait beauti beauti bodi gorgeous model peo...      stateofart   \n",
       "16300  autumn portrait beauti beauti light emot color...     getPictures   \n",
       "16301  autumn portrait beauti beauti light emot color...     getPictures   \n",
       "16302  portrait young sumer winter spring light emot ...     routography   \n",
       "\n",
       "       Times Viewed  Rating        Date   Time  Category  \n",
       "0             18570    46.8  2017-07-02  14:42         7  \n",
       "1            124168    49.8  2014-05-14  18:36         7  \n",
       "2             84304    48.9  2015-08-13  10:27         0  \n",
       "3             16932    46.1  2017-07-02  14:44         7  \n",
       "4            105510    49.9  2014-11-01  22:03         7  \n",
       "...             ...     ...         ...    ...       ...  \n",
       "16298            89    21.3  2015-04-02  14:48         7  \n",
       "16299           522    36.0  2015-03-10  14:01         7  \n",
       "16300           155    22.0  2015-03-16  18:21         7  \n",
       "16301           185    27.8  2015-03-16  18:21         7  \n",
       "16302            83    31.7  2015-05-25  17:14         7  \n",
       "\n",
       "[16303 rows x 7 columns]"
      ]
     },
     "execution_count": 2,
     "metadata": {},
     "output_type": "execute_result"
    }
   ],
   "source": [
    "df = pd.read_csv('Tag_pre.csv')\n",
    "df"
   ]
  },
  {
   "cell_type": "markdown",
   "id": "43d88f6a",
   "metadata": {},
   "source": [
    "# TF-IDF Vectorization"
   ]
  },
  {
   "cell_type": "code",
   "execution_count": 3,
   "id": "ad6c84f6",
   "metadata": {},
   "outputs": [],
   "source": [
    "tfidf = TfidfVectorizer()\n",
    "tfidf_data = tfidf.fit_transform(df['Tags'])"
   ]
  },
  {
   "cell_type": "code",
   "execution_count": 4,
   "id": "fd0d4cd7",
   "metadata": {},
   "outputs": [],
   "source": [
    "features = tfidf.get_feature_names()"
   ]
  },
  {
   "cell_type": "code",
   "execution_count": 5,
   "id": "663a1360",
   "metadata": {},
   "outputs": [
    {
     "name": "stdout",
     "output_type": "stream",
     "text": [
      "['zombi', 'loteri', 'ly', 'luscious', 'luna', 'lugag', 'luci', 'lowli', 'lower', 'lovel']\n"
     ]
    }
   ],
   "source": [
    "indices = np.argsort(tfidf.idf_)[::-1]\n",
    "\n",
    "top_n = 10\n",
    "top_features = [features[i] for i in indices[:top_n]]\n",
    "print (top_features)"
   ]
  },
  {
   "cell_type": "markdown",
   "id": "1983389b",
   "metadata": {},
   "source": [
    "### Finding optimal value for number of components"
   ]
  },
  {
   "cell_type": "code",
   "execution_count": 19,
   "id": "736187b9",
   "metadata": {},
   "outputs": [
    {
     "data": {
      "image/png": "[encoded data removed]",
      "text/plain": [
       "<Figure size 432x288 with 1 Axes>"
      ]
     },
     "metadata": {
      "needs_background": "light"
     },
     "output_type": "display_data"
    }
   ],
   "source": [
    "k = np.arange(1,2000,100)\n",
    "\n",
    "variance =[]\n",
    "for i in k:\n",
    "    svd = TruncatedSVD(n_components=i)\n",
    "    svd.fit_transform(tfidf_data)\n",
    "    score = svd.explained_variance_ratio_.sum()\n",
    "    variance.append(score)\n",
    "    \n",
    "plt.plot(k, variance)\n",
    "plt.xlabel('Number of Components')\n",
    "plt.ylabel('Explained Variance')\n",
    "plt.title('n_components VS Explained variance')\n",
    "plt.show()"
   ]
  },
  {
   "cell_type": "code",
   "execution_count": 6,
   "id": "9f639ef7",
   "metadata": {},
   "outputs": [],
   "source": [
    "svd = TruncatedSVD(n_components=1200)\n",
    "reduced_tfidf = svd.fit_transform(tfidf_data.toarray())"
   ]
  },
  {
   "cell_type": "markdown",
   "id": "c70902db",
   "metadata": {},
   "source": [
    "# Applying K-means Clustering"
   ]
  },
  {
   "cell_type": "code",
   "execution_count": 23,
   "id": "2bff8ef4",
   "metadata": {},
   "outputs": [
    {
     "data": {
      "image/png": "[encoded data removed]",
      "text/plain": [
       "<Figure size 432x288 with 1 Axes>"
      ]
     },
     "metadata": {
      "needs_background": "light"
     },
     "output_type": "display_data"
    }
   ],
   "source": [
    "errors = []\n",
    "k = [2, 5, 10, 15, 25, 30, 50, 100]\n",
    "\n",
    "for i in k:\n",
    "    kmeans = KMeans(n_clusters=i, random_state=0)\n",
    "    kmeans.fit(tfidf_data)\n",
    "    errors.append(kmeans.inertia_)\n",
    "    \n",
    "plt.plot(k, errors)\n",
    "plt.xlabel('K')\n",
    "plt.ylabel('Error')\n",
    "plt.title('K VS Error Plot')\n",
    "plt.show()"
   ]
  },
  {
   "cell_type": "code",
   "execution_count": 11,
   "id": "6ba467ca",
   "metadata": {},
   "outputs": [],
   "source": [
    "kmeans = KMeans(n_clusters=30, random_state=0)\n",
    "clusters = kmeans.fit_predict(reduced_tfidf)"
   ]
  },
  {
   "cell_type": "code",
   "execution_count": 35,
   "id": "42471242",
   "metadata": {},
   "outputs": [],
   "source": [
    "df['clusters'] = clusters"
   ]
  },
  {
   "cell_type": "code",
   "execution_count": 36,
   "id": "d8a51ace",
   "metadata": {},
   "outputs": [],
   "source": [
    "#dfs = [x for _, x in df.groupby('clusters')]"
   ]
  },
  {
   "cell_type": "code",
   "execution_count": 28,
   "id": "cb00b260",
   "metadata": {},
   "outputs": [],
   "source": [
    "#kmeans = KMeans(n_clusters=30, random_state=0)\n",
    "#clusters = kmeans.fit_predict(tfidf_data)"
   ]
  },
  {
   "cell_type": "code",
   "execution_count": 13,
   "id": "6832776c",
   "metadata": {},
   "outputs": [],
   "source": [
    "# Plot the clusters\n",
    "#plt.figure(figsize=(10, 6))\n",
    "#plt.scatter(reduced_tfidf[:, 0], reduced_tfidf[:, 1], c=clusters, cmap='rainbow')\n",
    "#plt.scatter(kmeans.cluster_centers_[:, 0], kmeans.cluster_centers_[:, 1], s=200, c='black', marker='X', label='Centroids')\n",
    "#plt.xlabel('svd Component 1')\n",
    "#plt.ylabel('svd Component 2')\n",
    "#plt.title('Clusters of Customer Complaints')\n",
    "#plt.legend()\n",
    "#plt.grid(True)\n",
    "#plt.show()"
   ]
  },
  {
   "cell_type": "code",
   "execution_count": 29,
   "id": "a35dab83",
   "metadata": {},
   "outputs": [
    {
     "data": {
      "text/plain": [
       "0            [wede, emot, love, bride, beauti]\n",
       "1           [emot, sky, natur, beauti, sunset]\n",
       "2       [emot, music, color, expres, portrait]\n",
       "3       [natur, emot, beauti, light, portrait]\n",
       "4        [emot, portrait, girl, beauti, white]\n",
       "5            [love, emot, beauti, girl, coupl]\n",
       "6      [emot, expres, portrait, beauti, woman]\n",
       "7     [white, portrait, black, monochrom, old]\n",
       "8       [beauti, emot, sensual, atract, delic]\n",
       "9     [emot, portrait, sensual, woman, beauti]\n",
       "10             [nude, beauti, art, emot, girl]\n",
       "11         [art, emot, fine, portrait, beauti]\n",
       "12         [nude, emot, sensual, beauti, girl]\n",
       "13    [help, measur, white, background, equip]\n",
       "14           [emot, beauti, girl, smile, hapi]\n",
       "15     [emot, beauti, peopl, portrait, expres]\n",
       "16     [emot, stret, citi, photographi, black]\n",
       "17          [self, emot, portrait, face, girl]\n",
       "18     [emot, beauti, style, expres, portrait]\n",
       "19           [emot, beauti, expres, art, fine]\n",
       "20              [emot, low, key, black, white]\n",
       "21       [emot, beauti, girl, model, portrait]\n",
       "22             [dive, sea, fish, beauti, emot]\n",
       "23          [beauti, creativ, emot, draw, art]\n",
       "24          [emot, man, portrait, male, black]\n",
       "25              [dres, emot, white, girl, red]\n",
       "26          [beauti, emot, model, girl, femal]\n",
       "27           [emot, depres, sad, sadn, beauti]\n",
       "28           [art, beauti, girl, femal, woman]\n",
       "29        [white, black, emot, portrait, girl]\n",
       "Name: Tags, dtype: object"
      ]
     },
     "execution_count": 29,
     "metadata": {},
     "output_type": "execute_result"
    }
   ],
   "source": [
    "# Extract the most frequent keywords from a given text\n",
    "\n",
    "def extract_keywords(text, num_keywords=5):\n",
    "    words = [word for word in re.findall(r'\\w+', text.lower()) if len(word) > 2 and word.isalpha()]\n",
    "    word_freq = Counter(words)\n",
    "    return [word for word, freq in word_freq.most_common(num_keywords)]\n",
    " \n",
    "\n",
    "    \n",
    "    \n",
    "cluster_texts = df.groupby(clusters)['Tags'].apply(' '.join)\n",
    "cluster_keywords = cluster_texts.apply(extract_keywords)\n",
    " \n",
    "cluster_keywords"
   ]
  },
  {
   "cell_type": "code",
   "execution_count": 34,
   "id": "77742352",
   "metadata": {},
   "outputs": [
    {
     "data": {
      "text/plain": [
       "{0: ['wede', 'bride', 'love', 'grom', 'coupl'],\n",
       " 1: ['sky', 'sunset', 'landscap', 'sea', 'emot'],\n",
       " 2: ['music', 'color', 'ilustr', 'concert', 'emot'],\n",
       " 3: ['natur', 'light', 'beauti', 'model', 'emot'],\n",
       " 4: ['emot', 'portrait', 'girl', 'dark', 'beauti'],\n",
       " 5: ['love', 'coupl', 'romanc', 'romant', 'emot'],\n",
       " 6: ['expres', 'emot', 'portrait', 'dark', 'fashion'],\n",
       " 7: ['turkey', 'rain', 'old', 'citi', 'travel'],\n",
       " 8: ['delic', 'beauti', 'sensual', 'gorgeous', 'atract'],\n",
       " 9: ['portrait', 'emot', 'sensual', 'woman', 'beauti'],\n",
       " 10: ['nu', 'nude', 'art', 'nake', 'beauti'],\n",
       " 11: ['art', 'fine', 'emot', 'portrait', 'beauti'],\n",
       " 12: ['nude', 'sensual', 'nake', 'sexi', 'bodi'],\n",
       " 13: ['measur', 'screw', 'tol', 'help', 'safeti'],\n",
       " 14: ['smile', 'hapi', 'child', 'cute', 'joy'],\n",
       " 15: ['peopl', 'editori', 'vintag', 'expres', 'beauti'],\n",
       " 16: ['stret', 'citi', 'urban', 'photographi', 'emot'],\n",
       " 17: ['self', 'portrait', 'facel', 'face', 'emot'],\n",
       " 18: ['style', 'fuji', 'vintag', 'beauti', 'editori'],\n",
       " 19: ['magazin', 'fine', 'portraitur', 'beauti', 'expres'],\n",
       " 20: ['low', 'key', 'darkn', 'black', 'self'],\n",
       " 21: ['beauti', 'model', 'girl', 'hair', 'emot'],\n",
       " 22: ['dive', 'fish', 'sea', 'apnea', 'diver'],\n",
       " 23: ['graphic', 'draw', 'sketch', 'composit', 'oil'],\n",
       " 24: ['man', 'male', 'emot', 'portrait', 'beard'],\n",
       " 25: ['dres', 'red', 'white', 'girl', 'blond'],\n",
       " 26: ['beauti', 'model', 'preti', 'femal', 'sexi'],\n",
       " 27: ['depres', 'sad', 'sadn', 'emot', 'alon'],\n",
       " 28: ['art', 'emptin', 'dep', 'sadn', 'romant'],\n",
       " 29: ['black', 'white', 'emot', 'portrait', 'monochrom']}"
      ]
     },
     "execution_count": 34,
     "metadata": {},
     "output_type": "execute_result"
    }
   ],
   "source": [
    "# Get the top terms for a given cluster by summing the TF-IDF scores\n",
    "\n",
    "def get_top_terms_by_summing_tfidf(cluster_id, matrix, vectorizer, n_terms=5):\n",
    "    cluster_matrix = matrix[clusters == cluster_id]\n",
    "    summed_tfidf = cluster_matrix.sum(axis=0)\n",
    "    summed_tfidf = summed_tfidf.A1\n",
    "    top_term_indices = summed_tfidf.argsort()[-n_terms:][::-1]\n",
    "    top_terms = [vectorizer.get_feature_names()[index] for index in top_term_indices]\n",
    "    return top_terms\n",
    " \n",
    "cluster_top_terms_by_sum = {cluster_id: get_top_terms_by_summing_tfidf(cluster_id, tfidf_data, tfidf) for cluster_id in range(30)}\n",
    " \n",
    "cluster_top_terms_by_sum"
   ]
  },
  {
   "cell_type": "markdown",
   "id": "bb3860d6",
   "metadata": {},
   "source": [
    "# Applying DBscan Clustering"
   ]
  },
  {
   "cell_type": "code",
   "execution_count": 85,
   "id": "357f3abc",
   "metadata": {},
   "outputs": [],
   "source": [
    "dbscan = DBSCAN(eps=0.30, min_samples=15)\n",
    "dbscan.fit(reduced_tfidf)\n",
    "\n",
    "cluster_labels = dbscan.labels_"
   ]
  },
  {
   "cell_type": "code",
   "execution_count": 54,
   "id": "d4dc8a44",
   "metadata": {},
   "outputs": [],
   "source": [
    "#dbscan = DBSCAN(eps=1.0, min_samples=5)\n",
    "#dbscan.fit(tfidf_data)\n",
    "\n",
    "#cluster_labels = dbscan.labels_"
   ]
  },
  {
   "cell_type": "code",
   "execution_count": 87,
   "id": "62f633a9",
   "metadata": {},
   "outputs": [],
   "source": [
    "df['cluster_labels']=cluster_labels"
   ]
  },
  {
   "cell_type": "code",
   "execution_count": 88,
   "id": "5bd55232",
   "metadata": {},
   "outputs": [
    {
     "data": {
      "text/plain": [
       "-1            [emot, beauti, portrait, girl, white]\n",
       " 0               [love, beauti, natur, vital, dres]\n",
       " 1             [beauti, portrait, girl, art, woman]\n",
       " 2                         [portrait, emot, expres]\n",
       " 3                  [dive, sea, fish, beauti, emot]\n",
       " 4     [beauti, sensual, mysteri, stroboscop, imag]\n",
       " 5                                 [portrait, emot]\n",
       " 6     [natur, smile, background, portrait, beauti]\n",
       " 7             [window, eleg, ilumin, loke, voyeur]\n",
       " 8            [beauti, natur, white, healthi, cute]\n",
       " 9            [beauti, cute, portrait, love, preti]\n",
       " 10          [smile, screw, white, background, wod]\n",
       " 11        [white, portrait, black, monochrom, old]\n",
       " 12      [beauti, perform, pose, white, background]\n",
       " 13                 [nude, art, studio, girl, emot]\n",
       " 14          [beauti, style, emot, portrait, young]\n",
       " 15             [art, beauti, girl, portrait, bodi]\n",
       " 16            [art, beauti, portrait, femal, girl]\n",
       " 17        [beauti, emot, portrait, bodi, gorgeous]\n",
       " 18            [natur, emot, wod, portrait, beauti]\n",
       " 19          [portrait, beauti, peopl, emot, young]\n",
       " 20            [beauti, emot, portrait, bodi, hair]\n",
       " 21                [art, nude, beauti, girl, woman]\n",
       " 22             [white, beauti, black, light, hous]\n",
       " 23              [dog, pet, portrait, emot, studio]\n",
       " 24      [beauti, sensual, pasion, preti, gorgeous]\n",
       " 25           [beauti, emot, style, cute, portrait]\n",
       " 26            [beauti, natur, outdor, dark, build]\n",
       " 27            [beauti, model, tale, fairi, autumn]\n",
       " 28            [beauti, emot, top, portrait, preti]\n",
       " 29         [help, measur, white, background, isol]\n",
       "Name: Tags, dtype: object"
      ]
     },
     "execution_count": 88,
     "metadata": {},
     "output_type": "execute_result"
    }
   ],
   "source": [
    "cluster_texts = df.groupby(cluster_labels)['Tags'].apply(' '.join)\n",
    "cluster_keywords = cluster_texts.apply(extract_keywords)\n",
    " \n",
    "cluster_keywords"
   ]
  },
  {
   "cell_type": "code",
   "execution_count": 89,
   "id": "e6f80cfc",
   "metadata": {},
   "outputs": [
    {
     "data": {
      "text/plain": [
       "{0: ['wede', 'bride', 'love', 'grom', 'coupl'],\n",
       " 1: ['sky', 'sunset', 'landscap', 'sea', 'emot'],\n",
       " 2: ['music', 'color', 'ilustr', 'concert', 'emot'],\n",
       " 3: ['natur', 'light', 'beauti', 'model', 'emot'],\n",
       " 4: ['emot', 'portrait', 'girl', 'dark', 'beauti'],\n",
       " 5: ['love', 'coupl', 'romanc', 'romant', 'emot'],\n",
       " 6: ['expres', 'emot', 'portrait', 'dark', 'fashion'],\n",
       " 7: ['turkey', 'rain', 'old', 'citi', 'travel'],\n",
       " 8: ['delic', 'beauti', 'sensual', 'gorgeous', 'atract'],\n",
       " 9: ['portrait', 'emot', 'sensual', 'woman', 'beauti'],\n",
       " 10: ['nu', 'nude', 'art', 'nake', 'beauti'],\n",
       " 11: ['art', 'fine', 'emot', 'portrait', 'beauti'],\n",
       " 12: ['nude', 'sensual', 'nake', 'sexi', 'bodi'],\n",
       " 13: ['measur', 'screw', 'tol', 'help', 'safeti'],\n",
       " 14: ['smile', 'hapi', 'child', 'cute', 'joy'],\n",
       " 15: ['peopl', 'editori', 'vintag', 'expres', 'beauti'],\n",
       " 16: ['stret', 'citi', 'urban', 'photographi', 'emot'],\n",
       " 17: ['self', 'portrait', 'facel', 'face', 'emot'],\n",
       " 18: ['style', 'fuji', 'vintag', 'beauti', 'editori'],\n",
       " 19: ['magazin', 'fine', 'portraitur', 'beauti', 'expres'],\n",
       " 20: ['low', 'key', 'darkn', 'black', 'self'],\n",
       " 21: ['beauti', 'model', 'girl', 'hair', 'emot'],\n",
       " 22: ['dive', 'fish', 'sea', 'apnea', 'diver'],\n",
       " 23: ['graphic', 'draw', 'sketch', 'composit', 'oil'],\n",
       " 24: ['man', 'male', 'emot', 'portrait', 'beard'],\n",
       " 25: ['dres', 'red', 'white', 'girl', 'blond'],\n",
       " 26: ['beauti', 'model', 'preti', 'femal', 'sexi'],\n",
       " 27: ['depres', 'sad', 'sadn', 'emot', 'alon'],\n",
       " 28: ['art', 'emptin', 'dep', 'sadn', 'romant'],\n",
       " 29: ['black', 'white', 'emot', 'portrait', 'monochrom'],\n",
       " 30: ['zombi', 'fite', 'finger', 'fingertip', 'finish']}"
      ]
     },
     "execution_count": 89,
     "metadata": {},
     "output_type": "execute_result"
    }
   ],
   "source": [
    "cluster_top_terms_by_sum = {cluster_id: get_top_terms_by_summing_tfidf(cluster_id, tfidf_data, tfidf) for cluster_id in range(len(set(cluster_labels)))}\n",
    " \n",
    "cluster_top_terms_by_sum"
   ]
  }
 ],
 "metadata": {
  "kernelspec": {
   "display_name": "Python 3 (ipykernel)",
   "language": "python",
   "name": "python3"
  },
  "language_info": {
   "codemirror_mode": {
    "name": "ipython",
    "version": 3
   },
   "file_extension": ".py",
   "mimetype": "text/x-python",
   "name": "python",
   "nbconvert_exporter": "python",
   "pygments_lexer": "ipython3",
   "version": "3.9.7"
  }
 },
 "nbformat": 4,
 "nbformat_minor": 5
}
